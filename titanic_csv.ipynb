{
  "nbformat": 4,
  "nbformat_minor": 0,
  "metadata": {
    "colab": {
      "provenance": [],
      "authorship_tag": "ABX9TyPYDDu52W4vg1/+Bl/smNwl",
      "include_colab_link": true
    },
    "kernelspec": {
      "name": "python3",
      "display_name": "Python 3"
    },
    "language_info": {
      "name": "python"
    }
  },
  "cells": [
    {
      "cell_type": "markdown",
      "metadata": {
        "id": "view-in-github",
        "colab_type": "text"
      },
      "source": [
        "<a href=\"https://colab.research.google.com/github/Laxmi1nayak/week_1/blob/main/titanic_csv.ipynb\" target=\"_parent\"><img src=\"https://colab.research.google.com/assets/colab-badge.svg\" alt=\"Open In Colab\"/></a>"
      ]
    },
    {
      "cell_type": "code",
      "execution_count": 1,
      "metadata": {
        "colab": {
          "base_uri": "https://localhost:8080/",
          "height": 0
        },
        "id": "lROV1559ceHC",
        "outputId": "59ef7839-5e06-4c98-9d82-8455f9996126"
      },
      "outputs": [
        {
          "output_type": "stream",
          "name": "stdout",
          "text": [
            "Shape: (891, 12)\n",
            "Missing values:\n",
            " PassengerId      0\n",
            "Survived         0\n",
            "Pclass           0\n",
            "Name             0\n",
            "Sex              0\n",
            "Age            177\n",
            "SibSp            0\n",
            "Parch            0\n",
            "Ticket           0\n",
            "Fare             0\n",
            "Cabin          687\n",
            "Embarked         2\n",
            "dtype: int64\n",
            "Data types:\n",
            " PassengerId      int64\n",
            "Survived         int64\n",
            "Pclass           int64\n",
            "Name            object\n",
            "Sex             object\n",
            "Age            float64\n",
            "SibSp            int64\n",
            "Parch            int64\n",
            "Ticket          object\n",
            "Fare           float64\n",
            "Cabin           object\n",
            "Embarked        object\n",
            "dtype: object\n",
            "                                                Name     Sex   Age  Survived\n",
            "0                            Braund, Mr. Owen Harris    male  22.0         0\n",
            "1  Cumings, Mrs. John Bradley (Florence Briggs Th...  female  38.0         1\n",
            "2                             Heikkinen, Miss. Laina  female  26.0         1\n",
            "3       Futrelle, Mrs. Jacques Heath (Lily May Peel)  female  35.0         1\n",
            "4                           Allen, Mr. William Henry    male  35.0         0\n",
            "PassengerId                                          10\n",
            "Survived                                              1\n",
            "Pclass                                                2\n",
            "Name                Nasser, Mrs. Nicholas (Adele Achem)\n",
            "Sex                                              female\n",
            "Age                                                14.0\n",
            "Siblings/Spouses                                      1\n",
            "Parents/Children                                      0\n",
            "Fare                                            30.0708\n",
            "Embarked                                              C\n",
            "Name: 9, dtype: object\n",
            "Survival by class:\n",
            "             mean  sum  count\n",
            "Pclass                      \n",
            "1       0.629630  136    216\n",
            "2       0.472826   87    184\n",
            "3       0.242363  119    491\n",
            "Pivot table:\n",
            " Pclass         1         2         3\n",
            "Sex                                 \n",
            "female  0.968085  0.921053  0.500000\n",
            "male    0.368852  0.157407  0.135447\n"
          ]
        },
        {
          "output_type": "stream",
          "name": "stderr",
          "text": [
            "/tmp/ipython-input-2216959912.py:16: FutureWarning: A value is trying to be set on a copy of a DataFrame or Series through chained assignment using an inplace method.\n",
            "The behavior will change in pandas 3.0. This inplace method will never work because the intermediate object on which we are setting values always behaves as a copy.\n",
            "\n",
            "For example, when doing 'df[col].method(value, inplace=True)', try using 'df.method({col: value}, inplace=True)' or df[col] = df[col].method(value) instead, to perform the operation inplace on the original object.\n",
            "\n",
            "\n",
            "  df['Age'].fillna(df['Age'].median(), inplace=True)\n",
            "/tmp/ipython-input-2216959912.py:17: FutureWarning: A value is trying to be set on a copy of a DataFrame or Series through chained assignment using an inplace method.\n",
            "The behavior will change in pandas 3.0. This inplace method will never work because the intermediate object on which we are setting values always behaves as a copy.\n",
            "\n",
            "For example, when doing 'df[col].method(value, inplace=True)', try using 'df.method({col: value}, inplace=True)' or df[col] = df[col].method(value) instead, to perform the operation inplace on the original object.\n",
            "\n",
            "\n",
            "  df['Embarked'].fillna(df['Embarked'].mode()[0], inplace=True)\n"
          ]
        },
        {
          "output_type": "stream",
          "name": "stdout",
          "text": [
            "Summary exported successfully!\n"
          ]
        }
      ],
      "source": [
        "\n",
        "import pandas as pd\n",
        "import numpy as np\n",
        "\n",
        "\n",
        "url = \"https://raw.githubusercontent.com/Amolak001/Titanic-Dataset-Analysis/main/train.csv\"\n",
        "df = pd.read_csv(url)\n",
        "\n",
        "print(\"Shape:\", df.shape)\n",
        "print(\"Missing values:\\n\", df.isnull().sum())\n",
        "print(\"Data types:\\n\", df.dtypes)\n",
        "\n",
        "\n",
        "df.drop(columns=['Cabin', 'Ticket'], inplace=True)\n",
        "df['Age'].fillna(df['Age'].median(), inplace=True)\n",
        "df['Embarked'].fillna(df['Embarked'].mode()[0], inplace=True)\n",
        "\n",
        "\n",
        "df.rename(columns={'SibSp': 'Siblings/Spouses', 'Parch': 'Parents/Children'}, inplace=True)\n",
        "\n",
        "\n",
        "print(df.loc[:4, ['Name', 'Sex', 'Age', 'Survived']])\n",
        "print(df.iloc[9])\n",
        "\n",
        "grouped = df.groupby('Pclass')['Survived'].agg(['mean', 'sum', 'count'])\n",
        "print(\"Survival by class:\\n\", grouped)\n",
        "\n",
        "\n",
        "pivot = pd.pivot_table(df, values='Survived', index='Sex', columns='Pclass', aggfunc='mean')\n",
        "print(\"Pivot table:\\n\", pivot)\n",
        "\n",
        "\n",
        "extra_info = pd.DataFrame({\n",
        "    'PassengerId': df['PassengerId'],\n",
        "    'VIP': np.random.choice([True, False], size=len(df))\n",
        "})\n",
        "merged_df = pd.merge(df, extra_info, on='PassengerId')\n",
        "\n",
        "\n",
        "summary = merged_df[['PassengerId', 'Name', 'Survived', 'VIP']]\n",
        "summary.to_csv(\"titanic_summary.csv\", index=False)\n",
        "summary.to_excel(\"titanic_summary.xlsx\", index=False)\n",
        "\n",
        "print(\"Summary exported successfully!\")"
      ]
    },
    {
      "cell_type": "code",
      "source": [
        "#data frame creation\n",
        "import pandas as pd\n",
        "\n",
        "# Load CSV from URL\n",
        "url = \"https://raw.githubusercontent.com/Amolak001/Titanic-Dataset-Analysis/main/train.csv\"\n",
        "df = pd.read_csv(url)\n",
        "print(df)"
      ],
      "metadata": {
        "colab": {
          "base_uri": "https://localhost:8080/",
          "height": 0
        },
        "id": "SHtlJfSheuu4",
        "outputId": "0991d457-764c-4a17-c2f7-b58adfd1b775"
      },
      "execution_count": 4,
      "outputs": [
        {
          "output_type": "stream",
          "name": "stdout",
          "text": [
            "     PassengerId  Survived  Pclass  \\\n",
            "0              1         0       3   \n",
            "1              2         1       1   \n",
            "2              3         1       3   \n",
            "3              4         1       1   \n",
            "4              5         0       3   \n",
            "..           ...       ...     ...   \n",
            "886          887         0       2   \n",
            "887          888         1       1   \n",
            "888          889         0       3   \n",
            "889          890         1       1   \n",
            "890          891         0       3   \n",
            "\n",
            "                                                  Name     Sex   Age  SibSp  \\\n",
            "0                              Braund, Mr. Owen Harris    male  22.0      1   \n",
            "1    Cumings, Mrs. John Bradley (Florence Briggs Th...  female  38.0      1   \n",
            "2                               Heikkinen, Miss. Laina  female  26.0      0   \n",
            "3         Futrelle, Mrs. Jacques Heath (Lily May Peel)  female  35.0      1   \n",
            "4                             Allen, Mr. William Henry    male  35.0      0   \n",
            "..                                                 ...     ...   ...    ...   \n",
            "886                              Montvila, Rev. Juozas    male  27.0      0   \n",
            "887                       Graham, Miss. Margaret Edith  female  19.0      0   \n",
            "888           Johnston, Miss. Catherine Helen \"Carrie\"  female   NaN      1   \n",
            "889                              Behr, Mr. Karl Howell    male  26.0      0   \n",
            "890                                Dooley, Mr. Patrick    male  32.0      0   \n",
            "\n",
            "     Parch            Ticket     Fare Cabin Embarked  \n",
            "0        0         A/5 21171   7.2500   NaN        S  \n",
            "1        0          PC 17599  71.2833   C85        C  \n",
            "2        0  STON/O2. 3101282   7.9250   NaN        S  \n",
            "3        0            113803  53.1000  C123        S  \n",
            "4        0            373450   8.0500   NaN        S  \n",
            "..     ...               ...      ...   ...      ...  \n",
            "886      0            211536  13.0000   NaN        S  \n",
            "887      0            112053  30.0000   B42        S  \n",
            "888      2        W./C. 6607  23.4500   NaN        S  \n",
            "889      0            111369  30.0000  C148        C  \n",
            "890      0            370376   7.7500   NaN        Q  \n",
            "\n",
            "[891 rows x 12 columns]\n"
          ]
        }
      ]
    },
    {
      "cell_type": "code",
      "source": [
        "# loc: label-based\n",
        "print(df.loc[0:4, ['Name', 'Sex', 'Age']]) s\n",
        "\n",
        "# iloc: position-based\n",
        "print(df.iloc[10])"
      ],
      "metadata": {
        "colab": {
          "base_uri": "https://localhost:8080/",
          "height": 0
        },
        "id": "0GxVRFZye-lK",
        "outputId": "cbf01a71-9e44-40a7-df2e-54a7e5a0ad73"
      },
      "execution_count": 5,
      "outputs": [
        {
          "output_type": "stream",
          "name": "stdout",
          "text": [
            "                                                Name     Sex   Age\n",
            "0                            Braund, Mr. Owen Harris    male  22.0\n",
            "1  Cumings, Mrs. John Bradley (Florence Briggs Th...  female  38.0\n",
            "2                             Heikkinen, Miss. Laina  female  26.0\n",
            "3       Futrelle, Mrs. Jacques Heath (Lily May Peel)  female  35.0\n",
            "4                           Allen, Mr. William Henry    male  35.0\n",
            "PassengerId                                 11\n",
            "Survived                                     1\n",
            "Pclass                                       3\n",
            "Name           Sandstrom, Miss. Marguerite Rut\n",
            "Sex                                     female\n",
            "Age                                        4.0\n",
            "SibSp                                        1\n",
            "Parch                                        1\n",
            "Ticket                                 PP 9549\n",
            "Fare                                      16.7\n",
            "Cabin                                       G6\n",
            "Embarked                                     S\n",
            "Name: 10, dtype: object\n"
          ]
        }
      ]
    },
    {
      "cell_type": "code",
      "source": [
        "#data cleaning\n",
        "# Drop columns\n",
        "df.drop(columns=['Cabin', 'Ticket'], inplace=True)\n",
        "\n",
        "# Fill missing values\n",
        "df['Age'].fillna(df['Age'].median(), inplace=True)\n",
        "df['Embarked'].fillna(df['Embarked'].mode()[0], inplace=True)\n",
        "\n",
        "# Rename columns\n",
        "df.rename(columns={'SibSp': 'Siblings/Spouses', 'Parch': 'Parents/Children'}, inplace=True)"
      ],
      "metadata": {
        "colab": {
          "base_uri": "https://localhost:8080/",
          "height": 0
        },
        "id": "1bkSsckCiGoW",
        "outputId": "cf358108-492c-4907-a01f-77bcabd00054"
      },
      "execution_count": 6,
      "outputs": [
        {
          "output_type": "stream",
          "name": "stderr",
          "text": [
            "/tmp/ipython-input-871284311.py:6: FutureWarning: A value is trying to be set on a copy of a DataFrame or Series through chained assignment using an inplace method.\n",
            "The behavior will change in pandas 3.0. This inplace method will never work because the intermediate object on which we are setting values always behaves as a copy.\n",
            "\n",
            "For example, when doing 'df[col].method(value, inplace=True)', try using 'df.method({col: value}, inplace=True)' or df[col] = df[col].method(value) instead, to perform the operation inplace on the original object.\n",
            "\n",
            "\n",
            "  df['Age'].fillna(df['Age'].median(), inplace=True)\n",
            "/tmp/ipython-input-871284311.py:7: FutureWarning: A value is trying to be set on a copy of a DataFrame or Series through chained assignment using an inplace method.\n",
            "The behavior will change in pandas 3.0. This inplace method will never work because the intermediate object on which we are setting values always behaves as a copy.\n",
            "\n",
            "For example, when doing 'df[col].method(value, inplace=True)', try using 'df.method({col: value}, inplace=True)' or df[col] = df[col].method(value) instead, to perform the operation inplace on the original object.\n",
            "\n",
            "\n",
            "  df['Embarked'].fillna(df['Embarked'].mode()[0], inplace=True)\n"
          ]
        }
      ]
    },
    {
      "cell_type": "code",
      "source": [
        "# data aggregation\n",
        "# Group by class and aggregate survival\n",
        "grouped = df.groupby('Pclass')['Survived'].agg(['mean', 'sum', 'count'])\n",
        "print(grouped)\n",
        "\n",
        "# Pivot table: survival rate by sex and class\n",
        "pivot = pd.pivot_table(df, values='Survived', index='Sex', columns='Pclass', aggfunc='mean')\n",
        "print(pivot)"
      ],
      "metadata": {
        "colab": {
          "base_uri": "https://localhost:8080/",
          "height": 0
        },
        "id": "TV2IoZ0KiVOe",
        "outputId": "83b49fa2-3385-4ae2-cf27-5c5773a76a67"
      },
      "execution_count": 7,
      "outputs": [
        {
          "output_type": "stream",
          "name": "stdout",
          "text": [
            "            mean  sum  count\n",
            "Pclass                      \n",
            "1       0.629630  136    216\n",
            "2       0.472826   87    184\n",
            "3       0.242363  119    491\n",
            "Pclass         1         2         3\n",
            "Sex                                 \n",
            "female  0.968085  0.921053  0.500000\n",
            "male    0.368852  0.157407  0.135447\n"
          ]
        }
      ]
    },
    {
      "cell_type": "code",
      "source": [
        "# data merging\n",
        "import numpy as np\n",
        "\n",
        "# Create dummy VIP column\n",
        "extra_info = pd.DataFrame({\n",
        "    'PassengerId': df['PassengerId'],\n",
        "    'VIP': np.random.choice([True, False], size=len(df))\n",
        "})\n",
        "\n",
        "# Merge with original DataFrame\n",
        "merged_df = pd.merge(df, extra_info, on='PassengerId')\n",
        "print(merged_df)\n"
      ],
      "metadata": {
        "colab": {
          "base_uri": "https://localhost:8080/",
          "height": 0
        },
        "id": "CBAIngxmidrK",
        "outputId": "ab9dbe70-9f01-46cf-99b6-629ec34aba85"
      },
      "execution_count": 9,
      "outputs": [
        {
          "output_type": "stream",
          "name": "stdout",
          "text": [
            "     PassengerId  Survived  Pclass  \\\n",
            "0              1         0       3   \n",
            "1              2         1       1   \n",
            "2              3         1       3   \n",
            "3              4         1       1   \n",
            "4              5         0       3   \n",
            "..           ...       ...     ...   \n",
            "886          887         0       2   \n",
            "887          888         1       1   \n",
            "888          889         0       3   \n",
            "889          890         1       1   \n",
            "890          891         0       3   \n",
            "\n",
            "                                                  Name     Sex   Age  \\\n",
            "0                              Braund, Mr. Owen Harris    male  22.0   \n",
            "1    Cumings, Mrs. John Bradley (Florence Briggs Th...  female  38.0   \n",
            "2                               Heikkinen, Miss. Laina  female  26.0   \n",
            "3         Futrelle, Mrs. Jacques Heath (Lily May Peel)  female  35.0   \n",
            "4                             Allen, Mr. William Henry    male  35.0   \n",
            "..                                                 ...     ...   ...   \n",
            "886                              Montvila, Rev. Juozas    male  27.0   \n",
            "887                       Graham, Miss. Margaret Edith  female  19.0   \n",
            "888           Johnston, Miss. Catherine Helen \"Carrie\"  female  28.0   \n",
            "889                              Behr, Mr. Karl Howell    male  26.0   \n",
            "890                                Dooley, Mr. Patrick    male  32.0   \n",
            "\n",
            "     Siblings/Spouses  Parents/Children     Fare Embarked    VIP  \n",
            "0                   1                 0   7.2500        S   True  \n",
            "1                   1                 0  71.2833        C   True  \n",
            "2                   0                 0   7.9250        S  False  \n",
            "3                   1                 0  53.1000        S  False  \n",
            "4                   0                 0   8.0500        S   True  \n",
            "..                ...               ...      ...      ...    ...  \n",
            "886                 0                 0  13.0000        S   True  \n",
            "887                 0                 0  30.0000        S   True  \n",
            "888                 1                 2  23.4500        S   True  \n",
            "889                 0                 0  30.0000        C  False  \n",
            "890                 0                 0   7.7500        Q   True  \n",
            "\n",
            "[891 rows x 11 columns]\n"
          ]
        }
      ]
    },
    {
      "cell_type": "code",
      "source": [
        "# exporting\n",
        "# Export cleaned summary\n",
        "summary = merged_df[['PassengerId', 'Name', 'Survived', 'VIP']]\n",
        "summary.to_csv(\"titanic_summary.csv\", index=False)\n",
        "summary.to_excel(\"titanic_summary.xlsx\", index=False)\n",
        "print(\"Export complete! Here's a preview:\")\n",
        "print(summary.head())"
      ],
      "metadata": {
        "colab": {
          "base_uri": "https://localhost:8080/",
          "height": 0
        },
        "id": "ymA5oWilivje",
        "outputId": "7837476a-44a3-44bd-e3d7-0bd15c4798be"
      },
      "execution_count": 12,
      "outputs": [
        {
          "output_type": "stream",
          "name": "stdout",
          "text": [
            "Export complete! Here's a preview:\n",
            "   PassengerId                                               Name  Survived  \\\n",
            "0            1                            Braund, Mr. Owen Harris         0   \n",
            "1            2  Cumings, Mrs. John Bradley (Florence Briggs Th...         1   \n",
            "2            3                             Heikkinen, Miss. Laina         1   \n",
            "3            4       Futrelle, Mrs. Jacques Heath (Lily May Peel)         1   \n",
            "4            5                           Allen, Mr. William Henry         0   \n",
            "\n",
            "     VIP  \n",
            "0   True  \n",
            "1   True  \n",
            "2  False  \n",
            "3  False  \n",
            "4   True  \n"
          ]
        }
      ]
    },
    {
      "cell_type": "code",
      "source": [],
      "metadata": {
        "id": "pKwi40BPi6Nz"
      },
      "execution_count": null,
      "outputs": []
    }
  ]
}