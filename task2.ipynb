{
  "nbformat": 4,
  "nbformat_minor": 0,
  "metadata": {
    "colab": {
      "provenance": [],
      "toc_visible": true,
      "authorship_tag": "ABX9TyOaOSDPh/slESsr8dx9EXap",
      "include_colab_link": true
    },
    "kernelspec": {
      "name": "python3",
      "display_name": "Python 3"
    },
    "language_info": {
      "name": "python"
    }
  },
  "cells": [
    {
      "cell_type": "markdown",
      "metadata": {
        "id": "view-in-github",
        "colab_type": "text"
      },
      "source": [
        "<a href=\"https://colab.research.google.com/github/Laxmi1nayak/week_1/blob/main/task2.ipynb\" target=\"_parent\"><img src=\"https://colab.research.google.com/assets/colab-badge.svg\" alt=\"Open In Colab\"/></a>"
      ]
    },
    {
      "cell_type": "code",
      "execution_count": 6,
      "metadata": {
        "colab": {
          "base_uri": "https://localhost:8080/",
          "height": 0
        },
        "id": "tgufFWR-Z_LH",
        "outputId": "349687ec-464f-449c-b14a-97072c2ad9e8"
      },
      "outputs": [
        {
          "output_type": "stream",
          "name": "stdout",
          "text": [
            "[1 2 3]\n",
            "[ 0  2  4  6  8 10 12 14 16 18]\n",
            "[0.   0.25 0.5  0.75 1.  ]\n",
            "[[0. 0. 0.]\n",
            " [0. 0. 0.]]\n",
            "[[1. 1.]\n",
            " [1. 1.]\n",
            " [1. 1.]]\n",
            "[[1. 0. 0.]\n",
            " [0. 1. 0.]\n",
            " [0. 0. 1.]]\n"
          ]
        }
      ],
      "source": [
        "#ARRAY CREATION\n",
        "import numpy as np\n",
        "# basic array\n",
        "a = np.array([1,2,3])\n",
        "print(a)\n",
        "# range of values\n",
        "b = np.arange(0,20,2)\n",
        "print(b)\n",
        "\n",
        "# evenly spaced values\n",
        "c = np.linspace(0,10,5)\n",
        "print(c)\n",
        "\n",
        "#zeros and on\n",
        "#2x2 matrix\n",
        "d = np.zeros((2,3))\n",
        "print(d)\n",
        "#3x2 matrix\n",
        "e = np.ones((3,2))\n",
        "print(e)\n",
        "\n",
        " #identity matrix 3x3\n",
        "f = np.eye(3)\n",
        "print(f)\n"
      ]
    },
    {
      "cell_type": "code",
      "source": [
        "#INDEXING & SLICING\n",
        "array=np.array([[10,20,30],[40,50,60]])\n",
        "value=array[1,2]\n",
        "print(value)\n"
      ],
      "metadata": {
        "colab": {
          "base_uri": "https://localhost:8080/",
          "height": 0
        },
        "id": "HFUj39jmaR-7",
        "outputId": "c4ccd8f8-62d5-45de-92ba-0e4857d2ed77"
      },
      "execution_count": 8,
      "outputs": [
        {
          "output_type": "stream",
          "name": "stdout",
          "text": [
            "60\n"
          ]
        }
      ]
    },
    {
      "cell_type": "code",
      "source": [
        "#SHAPE MANIPULATION\n",
        "import numpy as np\n",
        "x = np.array([[1, 2], [3, 4], [5, 6]])\n",
        "print(x)\n",
        "# Reshape\n",
        "reshaped = x.reshape((2, 3))\n",
        "print(x)\n",
        "\n",
        "# Flatten\n",
        "flat = x.flatten()\n",
        "print(x)\n",
        "\n",
        "# Transpose\n",
        "transposed = x.T\n",
        "print(x)\n",
        ""
      ],
      "metadata": {
        "colab": {
          "base_uri": "https://localhost:8080/",
          "height": 0
        },
        "id": "FSK6CErReJje",
        "outputId": "02664044-a97e-4c4c-f9c4-177655cf80ab"
      },
      "execution_count": 2,
      "outputs": [
        {
          "output_type": "stream",
          "name": "stdout",
          "text": [
            "[[1 2]\n",
            " [3 4]\n",
            " [5 6]]\n",
            "[[1 2]\n",
            " [3 4]\n",
            " [5 6]]\n",
            "[[1 2]\n",
            " [3 4]\n",
            " [5 6]]\n",
            "[[1 2]\n",
            " [3 4]\n",
            " [5 6]]\n"
          ]
        }
      ]
    },
    {
      "cell_type": "code",
      "source": [
        "#MATH OPERATION\n",
        "data = np.array([[1, 2], [3, 4]])\n",
        "print(data)\n",
        "# Aggregates\n",
        "mean_val = np.mean(data)\n",
        "std_val = np.std(data)\n",
        "sum_val = np.sum(data)\n",
        "print(sum_val)\n",
        "\n",
        "# Dot product\n",
        "v1 = np.array([1, 2])\n",
        "v2 = np.array([3, 4])\n",
        "dot_product = np.dot(v1, v2)  # 11\n",
        "print(dot_product)\n",
        "\n",
        "# Matrix multiplication\n",
        "m1 = np.array([[1, 2], [3, 4]])\n",
        "m2 = np.array([[5, 6], [7, 8]])\n",
        "matmul_result = np.matmul(m1, m2)\n",
        "print(matmul_result)\n"
      ],
      "metadata": {
        "colab": {
          "base_uri": "https://localhost:8080/",
          "height": 0
        },
        "id": "lcT4gdB6FF06",
        "outputId": "c63dd793-e51b-44d3-9048-b536a321a77e"
      },
      "execution_count": 4,
      "outputs": [
        {
          "output_type": "stream",
          "name": "stdout",
          "text": [
            "[[1 2]\n",
            " [3 4]]\n",
            "10\n",
            "11\n",
            "[[19 22]\n",
            " [43 50]]\n"
          ]
        }
      ]
    },
    {
      "cell_type": "code",
      "source": [
        "#RANDOM MODULE\n",
        "# Uniform random numbers\n",
        "rand_vals = np.random.rand(2, 3)\n",
        "print(rand_vals)\n",
        "\n",
        "# Normal distribution\n",
        "randn_vals = np.random.randn(2, 3)\n",
        "print(rand_vals)\n",
        "\n",
        "# Random integers\n",
        "rand_ints = np.random.randint(0, 10, size=(2, 2))\n",
        "print(rand_ints)\n",
        "\n",
        "# Random choice\n",
        "choices = np.random.choice([10, 20, 30], size=4)\n",
        "print(choices)\n"
      ],
      "metadata": {
        "colab": {
          "base_uri": "https://localhost:8080/",
          "height": 0
        },
        "id": "n2s2nYPcF3uV",
        "outputId": "57bf537e-9631-4be0-e203-09c05da7427b"
      },
      "execution_count": 5,
      "outputs": [
        {
          "output_type": "stream",
          "name": "stdout",
          "text": [
            "[[0.13201079 0.15079935 0.29299744]\n",
            " [0.88061227 0.46932608 0.64125714]]\n",
            "[[0.13201079 0.15079935 0.29299744]\n",
            " [0.88061227 0.46932608 0.64125714]]\n",
            "[[9 5]\n",
            " [4 1]]\n",
            "[20 30 20 20]\n"
          ]
        }
      ]
    },
    {
      "cell_type": "code",
      "source": [],
      "metadata": {
        "id": "2ioJNRpyGT_w"
      },
      "execution_count": null,
      "outputs": []
    }
  ]
}